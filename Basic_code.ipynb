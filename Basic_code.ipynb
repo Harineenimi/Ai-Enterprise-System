{
  "nbformat": 4,
  "nbformat_minor": 0,
  "metadata": {
    "colab": {
      "provenance": []
    },
    "kernelspec": {
      "name": "python3",
      "display_name": "Python 3"
    },
    "language_info": {
      "name": "python"
    }
  },
  "cells": [
    {
      "cell_type": "code",
      "execution_count": 3,
      "metadata": {
        "id": "dRKcT2tKgGjj",
        "colab": {
          "base_uri": "https://localhost:8080/"
        },
        "outputId": "ed213506-2fc9-4890-c216-50539bd95704"
      },
      "outputs": [
        {
          "output_type": "stream",
          "name": "stdout",
          "text": [
            "Enter a number (or type '999' to exit): 999\n",
            "Exiting the program. Goodbye!\n"
          ]
        }
      ],
      "source": [
        "# Program to check if a number is positive, negative, or zero (with loop)\n",
        "\n",
        "while True:\n",
        "    # Asking the user to input a number\n",
        "    number = float(input(\"Enter a number (or type '999' to exit): \"))\n",
        "\n",
        "    # Checking if the user wants to exit the program\n",
        "    if number == 999:\n",
        "        print(\"Exiting the program. Goodbye!\")\n",
        "        break\n",
        "\n",
        "    # Checking the condition of the number\n",
        "    if number > 0:\n",
        "        print(\"The number is positive.\")\n",
        "    elif number < 0:\n",
        "        print(\"The number is negative.\")\n",
        "    else:\n",
        "        print(\"The number is zero.\")\n"
      ]
    },
    {
      "cell_type": "code",
      "source": [],
      "metadata": {
        "id": "b02ODVPhIwVs"
      },
      "execution_count": null,
      "outputs": []
    }
  ]
}