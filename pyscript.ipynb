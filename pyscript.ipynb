{
  "nbformat": 4,
  "nbformat_minor": 0,
  "metadata": {
    "colab": {
      "provenance": []
    },
    "kernelspec": {
      "name": "python3",
      "display_name": "Python 3"
    },
    "language_info": {
      "name": "python"
    }
  },
  "cells": [
    {
      "cell_type": "code",
      "execution_count": 1,
      "metadata": {
        "id": "dRKcT2tKgGjj",
        "colab": {
          "base_uri": "https://localhost:8080/"
        },
        "outputId": "5f786af4-b63e-4156-abf7-1d6918fc28a2"
      },
      "outputs": [
        {
          "output_type": "stream",
          "name": "stdout",
          "text": [
            "Factorial Calculator\n",
            "Enter a positive integer to calculate its factorial (or -1 to exit): 2\n",
            "The factorial of 2 is 2.\n",
            "Enter a positive integer to calculate its factorial (or -1 to exit): -1\n",
            "Exiting program. Goodbye!\n"
          ]
        }
      ],
      "source": [
        "# Simple Factorial Program\n",
        "\n",
        "def calculate_factorial(number):\n",
        "    \"\"\"Calculate the factorial of a number.\"\"\"\n",
        "    factorial = 1\n",
        "    for i in range(1, number + 1):\n",
        "        factorial *= i\n",
        "    return factorial\n",
        "\n",
        "def main():\n",
        "    print(\"Factorial Calculator\")\n",
        "\n",
        "    while True:\n",
        "        try:\n",
        "            num = int(input(\"Enter a positive integer to calculate its factorial (or -1 to exit): \"))\n",
        "            if num == -1:\n",
        "                print(\"Exiting program. Goodbye!\")\n",
        "                break\n",
        "            elif num < 0:\n",
        "                print(\"Please enter a positive integer.\")\n",
        "            else:\n",
        "                print(f\"The factorial of {num} is {calculate_factorial(num)}.\")\n",
        "        except ValueError:\n",
        "            print(\"Invalid input. Please enter a valid number.\")\n",
        "\n",
        "if __name__ == \"__main__\":\n",
        "    main()\n"
      ]
    },
    {
      "cell_type": "code",
      "source": [],
      "metadata": {
        "id": "b02ODVPhIwVs"
      },
      "execution_count": null,
      "outputs": []
    }
  ]
}